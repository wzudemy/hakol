{
 "cells": [
  {
   "cell_type": "code",
   "execution_count": 2,
   "id": "c0a401a2-1df4-4445-91c2-e39337254cc5",
   "metadata": {
    "colab": {
     "base_uri": "https://localhost:8080/"
    },
    "id": "c0a401a2-1df4-4445-91c2-e39337254cc5",
    "executionInfo": {
     "status": "ok",
     "timestamp": 1710155794892,
     "user_tz": -120,
     "elapsed": 27344,
     "user": {
      "displayName": "Shiry Yonash",
      "userId": "13226437010615716886"
     }
    },
    "outputId": "b988d4af-f089-4e14-8310-1f69b51b09e8",
    "ExecuteTime": {
     "end_time": "2024-03-15T12:38:43.252398Z",
     "start_time": "2024-03-15T12:38:43.012197Z"
    }
   },
   "outputs": [],
   "source": [
    "import os\n",
    "import pickle\n",
    "import random\n",
    "import pandas as pd\n",
    "import numpy as np\n",
    "# from google.colab import drive\n",
    "# drive.mount('/content/drive')\n"
   ]
  },
  {
   "cell_type": "markdown",
   "id": "b5269b88-196d-4161-8ae0-b3af2e21f47e",
   "metadata": {
    "id": "b5269b88-196d-4161-8ae0-b3af2e21f47e"
   },
   "source": [
    "<h1 style=\"background-color:#4CAF50;\"> <center> Challenge Score </center> </h1>"
   ]
  },
  {
   "cell_type": "markdown",
   "id": "a7c8ad12",
   "metadata": {
    "id": "a7c8ad12"
   },
   "source": [
    "In this challenge, your task is to predict the correct label for each group of audio files. <br>The score for this challenge is determined by how accurately these labels are predicted compared to the true labels. <br>Here's how the scoring process works:<br>\n",
    "1. **Data Preparation:** The validation dataset, stored in **\"groups_challenge_validation.csv\"**, contains grouped audio files with labels indicating the correct prediction for each group. This dataset is loaded into a DataFrame named groups_df.\n",
    "2. **Scoring Mechanism**: The score is calculated as the percentage of groups for which your predictions match the true labels. We iterate through each group in the validation set and for each group, the true label (the correct audio file that matches the anchor speaker within the group) is identified. Your submitted predictions, expected in a file named **\"challenge_results.csv\"**, are compared against these true labels.\n",
    "A correct prediction is when the predicted label exactly matches the true label for a group.\n",
    "3. **Score Calculation**: The final score for this challenge is the percent of groups with a correct prediction."
   ]
  },
  {
   "cell_type": "code",
   "source": [
    "data_folder = '/home/eyalshw/github/wzudemy/hakol/data'\n",
    "print(os.path.exists(data_folder))\n",
    "challenge_folder = os.path.join(data_folder, \"challenge\")\n",
    "# groups_challenge.csv should be in challenge_folder\n",
    "GROUP_CHALLENGE_VALIDATION = os.path.join(data_folder, \"challenge/groups_challenge_validation.csv\")\n",
    "assert os.path.exists(GROUP_CHALLENGE_VALIDATION), \"The groups challenge validation set file does not exist\"\n",
    "RESULTS_FILE = \"challenge_results.csv\"\n",
    "assert os.path.exists(RESULTS_FILE), \"The results file does not exist\""
   ],
   "metadata": {
    "colab": {
     "base_uri": "https://localhost:8080/",
     "height": 193
    },
    "id": "hZWTzYoQOrqS",
    "executionInfo": {
     "status": "error",
     "timestamp": 1710156182673,
     "user_tz": -120,
     "elapsed": 327,
     "user": {
      "displayName": "Shiry Yonash",
      "userId": "13226437010615716886"
     }
    },
    "outputId": "5682d852-9801-4b7f-99d1-44182e40fb88",
    "ExecuteTime": {
     "end_time": "2024-03-15T12:42:01.601396Z",
     "start_time": "2024-03-15T12:42:01.595580Z"
    }
   },
   "id": "hZWTzYoQOrqS",
   "execution_count": 6,
   "outputs": [
    {
     "name": "stdout",
     "output_type": "stream",
     "text": [
      "True\n"
     ]
    }
   ]
  },
  {
   "cell_type": "code",
   "execution_count": 11,
   "id": "b0d29a15-06ad-42f4-8f1b-3d0462dc8ca6",
   "metadata": {
    "id": "b0d29a15-06ad-42f4-8f1b-3d0462dc8ca6",
    "executionInfo": {
     "status": "ok",
     "timestamp": 1710155922676,
     "user_tz": -120,
     "elapsed": 579,
     "user": {
      "displayName": "Shiry Yonash",
      "userId": "13226437010615716886"
     }
    },
    "ExecuteTime": {
     "end_time": "2024-03-15T12:43:22.137465Z",
     "start_time": "2024-03-15T12:43:22.129924Z"
    }
   },
   "outputs": [
    {
     "data": {
      "text/plain": "   group_id  anchor_file  anchor_speaker anchor_type   group_file  \\\n0         0  7122144.wav            4177  background  8287341.wav   \n1         1  1884556.wav             928        comm  3081309.wav   \n2         2  6682928.wav            3363        comm  7474942.wav   \n\n   group_audio_speaker group_audio_type  group_label  \n0                 4177       background  8287341.wav  \n1                  928       background  3081309.wav  \n2                 3363       background  7474942.wav  ",
      "text/html": "<div>\n<style scoped>\n    .dataframe tbody tr th:only-of-type {\n        vertical-align: middle;\n    }\n\n    .dataframe tbody tr th {\n        vertical-align: top;\n    }\n\n    .dataframe thead th {\n        text-align: right;\n    }\n</style>\n<table border=\"1\" class=\"dataframe\">\n  <thead>\n    <tr style=\"text-align: right;\">\n      <th></th>\n      <th>group_id</th>\n      <th>anchor_file</th>\n      <th>anchor_speaker</th>\n      <th>anchor_type</th>\n      <th>group_file</th>\n      <th>group_audio_speaker</th>\n      <th>group_audio_type</th>\n      <th>group_label</th>\n    </tr>\n  </thead>\n  <tbody>\n    <tr>\n      <th>0</th>\n      <td>0</td>\n      <td>7122144.wav</td>\n      <td>4177</td>\n      <td>background</td>\n      <td>8287341.wav</td>\n      <td>4177</td>\n      <td>background</td>\n      <td>8287341.wav</td>\n    </tr>\n    <tr>\n      <th>1</th>\n      <td>1</td>\n      <td>1884556.wav</td>\n      <td>928</td>\n      <td>comm</td>\n      <td>3081309.wav</td>\n      <td>928</td>\n      <td>background</td>\n      <td>3081309.wav</td>\n    </tr>\n    <tr>\n      <th>2</th>\n      <td>2</td>\n      <td>6682928.wav</td>\n      <td>3363</td>\n      <td>comm</td>\n      <td>7474942.wav</td>\n      <td>3363</td>\n      <td>background</td>\n      <td>7474942.wav</td>\n    </tr>\n  </tbody>\n</table>\n</div>"
     },
     "execution_count": 11,
     "metadata": {},
     "output_type": "execute_result"
    }
   ],
   "source": [
    "groups_df = pd.read_csv(GROUP_CHALLENGE_VALIDATION)\n",
    "groups_df.head(5)"
   ]
  },
  {
   "cell_type": "code",
   "execution_count": 12,
   "id": "d328b333-bbf4-4be3-9d62-ac41a688ef54",
   "metadata": {
    "colab": {
     "base_uri": "https://localhost:8080/"
    },
    "id": "d328b333-bbf4-4be3-9d62-ac41a688ef54",
    "executionInfo": {
     "status": "ok",
     "timestamp": 1710157144496,
     "user_tz": -120,
     "elapsed": 426,
     "user": {
      "displayName": "Shiry Yonash",
      "userId": "13226437010615716886"
     }
    },
    "outputId": "a46d6dd7-4685-40b8-f5b5-7d57f11af304",
    "ExecuteTime": {
     "end_time": "2024-03-15T12:43:23.311171Z",
     "start_time": "2024-03-15T12:43:23.306272Z"
    }
   },
   "outputs": [
    {
     "data": {
      "text/plain": "3"
     },
     "execution_count": 12,
     "metadata": {},
     "output_type": "execute_result"
    }
   ],
   "source": [
    "NUM_GROUPS = len(groups_df['group_id'].unique())\n",
    "NUM_GROUPS"
   ]
  },
  {
   "cell_type": "markdown",
   "id": "41c6980b-2015-46e2-95c5-27f746453bf1",
   "metadata": {
    "id": "41c6980b-2015-46e2-95c5-27f746453bf1"
   },
   "source": [
    "### How many of the groups got a correct match?"
   ]
  },
  {
   "cell_type": "code",
   "execution_count": 21,
   "id": "5d0a0f3f",
   "metadata": {
    "id": "5d0a0f3f",
    "ExecuteTime": {
     "end_time": "2024-03-15T12:46:18.419040Z",
     "start_time": "2024-03-15T12:46:18.411312Z"
    }
   },
   "outputs": [
    {
     "data": {
      "text/plain": "   group_label\n0  8287341.wav\n1  8287341.wav\n2  8287341.wav",
      "text/html": "<div>\n<style scoped>\n    .dataframe tbody tr th:only-of-type {\n        vertical-align: middle;\n    }\n\n    .dataframe tbody tr th {\n        vertical-align: top;\n    }\n\n    .dataframe thead th {\n        text-align: right;\n    }\n</style>\n<table border=\"1\" class=\"dataframe\">\n  <thead>\n    <tr style=\"text-align: right;\">\n      <th></th>\n      <th>group_label</th>\n    </tr>\n  </thead>\n  <tbody>\n    <tr>\n      <th>0</th>\n      <td>8287341.wav</td>\n    </tr>\n    <tr>\n      <th>1</th>\n      <td>8287341.wav</td>\n    </tr>\n    <tr>\n      <th>2</th>\n      <td>8287341.wav</td>\n    </tr>\n  </tbody>\n</table>\n</div>"
     },
     "execution_count": 21,
     "metadata": {},
     "output_type": "execute_result"
    }
   ],
   "source": [
    "res_df = pd.read_csv(RESULTS_FILE)\n",
    "res_df.head()"
   ]
  },
  {
   "cell_type": "code",
   "execution_count": 22,
   "id": "b11c1bd1-e939-448c-af64-015f94d93229",
   "metadata": {
    "id": "b11c1bd1-e939-448c-af64-015f94d93229",
    "outputId": "aa3d85dc-e948-4f00-ef8f-a5107bec2252",
    "ExecuteTime": {
     "end_time": "2024-03-15T12:46:20.029517Z",
     "start_time": "2024-03-15T12:46:20.019420Z"
    }
   },
   "outputs": [
    {
     "name": "stdout",
     "output_type": "stream",
     "text": [
      "Challenge Score: 33.33333333333333 %\n"
     ]
    },
    {
     "name": "stderr",
     "output_type": "stream",
     "text": [
      "/tmp/ipykernel_80777/2023642955.py:7: FutureWarning: Series.__getitem__ treating keys as positions is deprecated. In a future version, integer keys will always be treated as labels (consistent with DataFrame behavior). To access a value by position, use `ser.iloc[pos]`\n",
      "  predicted_label = res_df.iloc[group_id][0]\n"
     ]
    }
   ],
   "source": [
    "correct = 0\n",
    "\n",
    "for group_id in range(NUM_GROUPS):\n",
    "    group_df = groups_df[groups_df.group_id == group_id]\n",
    "    true_label = group_df['group_label'].iloc[0]\n",
    "\n",
    "    predicted_label = res_df.iloc[group_id][0]\n",
    "    if true_label == predicted_label:\n",
    "        correct += 1\n",
    "\n",
    "print(\"Challenge Score:\", (correct/NUM_GROUPS)*100, \"%\")"
   ]
  },
  {
   "cell_type": "code",
   "outputs": [
    {
     "name": "stderr",
     "output_type": "stream",
     "text": [
      "/tmp/ipykernel_80777/4011140868.py:1: FutureWarning: Series.__getitem__ treating keys as positions is deprecated. In a future version, integer keys will always be treated as labels (consistent with DataFrame behavior). To access a value by position, use `ser.iloc[pos]`\n",
      "  res_df.iloc[0][0]\n"
     ]
    },
    {
     "data": {
      "text/plain": "'8287341.wav'"
     },
     "execution_count": 23,
     "metadata": {},
     "output_type": "execute_result"
    }
   ],
   "source": [
    "res_df.iloc[0][0]"
   ],
   "metadata": {
    "collapsed": false,
    "ExecuteTime": {
     "end_time": "2024-03-15T12:46:20.859475Z",
     "start_time": "2024-03-15T12:46:20.852993Z"
    }
   },
   "id": "38e40335260d2e49",
   "execution_count": 23
  },
  {
   "cell_type": "code",
   "outputs": [],
   "source": [],
   "metadata": {
    "collapsed": false
   },
   "id": "3a5c21c784d80d90"
  }
 ],
 "metadata": {
  "kernelspec": {
   "name": "python3",
   "language": "python",
   "display_name": "Python 3 (ipykernel)"
  },
  "language_info": {
   "name": "python"
  },
  "colab": {
   "provenance": []
  }
 },
 "nbformat": 4,
 "nbformat_minor": 5
}
