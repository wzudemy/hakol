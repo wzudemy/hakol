{
 "cells": [
  {
   "cell_type": "code",
   "execution_count": 1,
   "id": "c0a401a2-1df4-4445-91c2-e39337254cc5",
   "metadata": {
    "colab": {
     "base_uri": "https://localhost:8080/"
    },
    "id": "c0a401a2-1df4-4445-91c2-e39337254cc5",
    "executionInfo": {
     "status": "ok",
     "timestamp": 1710155794892,
     "user_tz": -120,
     "elapsed": 27344,
     "user": {
      "displayName": "Shiry Yonash",
      "userId": "13226437010615716886"
     }
    },
    "outputId": "b988d4af-f089-4e14-8310-1f69b51b09e8"
   },
   "outputs": [
    {
     "output_type": "stream",
     "name": "stdout",
     "text": [
      "Mounted at /content/drive\n"
     ]
    }
   ],
   "source": [
    "import os\n",
    "import pickle\n",
    "import random\n",
    "import pandas as pd\n",
    "import numpy as np\n",
    "from google.colab import drive\n",
    "drive.mount('/content/drive')"
   ]
  },
  {
   "cell_type": "markdown",
   "id": "b5269b88-196d-4161-8ae0-b3af2e21f47e",
   "metadata": {
    "id": "b5269b88-196d-4161-8ae0-b3af2e21f47e"
   },
   "source": [
    "<h1 style=\"background-color:#4CAF50;\"> <center> Challenge Score </center> </h1>"
   ]
  },
  {
   "cell_type": "markdown",
   "id": "a7c8ad12",
   "metadata": {
    "id": "a7c8ad12"
   },
   "source": [
    "In this challenge, your task is to predict the correct label for each group of audio files. <br>The score for this challenge is determined by how accurately these labels are predicted compared to the true labels. <br>Here's how the scoring process works:<br>\n",
    "1. **Data Preparation:** The validation dataset, stored in **\"groups_challenge_validation.csv\"**, contains grouped audio files with labels indicating the correct prediction for each group. This dataset is loaded into a DataFrame named groups_df.\n",
    "2. **Scoring Mechanism**: The score is calculated as the percentage of groups for which your predictions match the true labels. We iterate through each group in the validation set and for each group, the true label (the correct audio file that matches the anchor speaker within the group) is identified. Your submitted predictions, expected in a file named **\"challenge_results.csv\"**, are compared against these true labels.\n",
    "A correct prediction is when the predicted label exactly matches the true label for a group.\n",
    "3. **Score Calculation**: The final score for this challenge is the percent of groups with a correct prediction."
   ]
  },
  {
   "cell_type": "code",
   "source": [
    "data_folder = '/content/drive/My Drive/speakathon_data_subset'\n",
    "print(os.path.exists(data_folder))\n",
    "challenge_folder = os.path.join(data_folder, \"challenge\")\n",
    "# groups_challenge.csv should be in challenge_folder\n",
    "GROUP_CHALLENGE_VALIDATION = os.path.join(data_folder, \"challenge/groups_challenge_validation.csv\")\n",
    "assert os.path.exists(GROUP_CHALLENGE_VALIDATION), \"The groups challenge validation set file does not exist\"\n",
    "RESULTS_FILE = \"challenge_results.csv\"\n",
    "assert os.path.exists(RESULTS_FILE), \"The results file does not exist\""
   ],
   "metadata": {
    "colab": {
     "base_uri": "https://localhost:8080/",
     "height": 193
    },
    "id": "hZWTzYoQOrqS",
    "executionInfo": {
     "status": "error",
     "timestamp": 1710156182673,
     "user_tz": -120,
     "elapsed": 327,
     "user": {
      "displayName": "Shiry Yonash",
      "userId": "13226437010615716886"
     }
    },
    "outputId": "5682d852-9801-4b7f-99d1-44182e40fb88"
   },
   "id": "hZWTzYoQOrqS",
   "execution_count": 11,
   "outputs": [
    {
     "output_type": "stream",
     "name": "stdout",
     "text": [
      "True\n"
     ]
    },
    {
     "output_type": "error",
     "ename": "AssertionError",
     "evalue": "The results file does not exist",
     "traceback": [
      "\u001B[0;31m---------------------------------------------------------------------------\u001B[0m",
      "\u001B[0;31mAssertionError\u001B[0m                            Traceback (most recent call last)",
      "\u001B[0;32m<ipython-input-11-36d132f44077>\u001B[0m in \u001B[0;36m<cell line: 8>\u001B[0;34m()\u001B[0m\n\u001B[1;32m      6\u001B[0m \u001B[0;32massert\u001B[0m \u001B[0mos\u001B[0m\u001B[0;34m.\u001B[0m\u001B[0mpath\u001B[0m\u001B[0;34m.\u001B[0m\u001B[0mexists\u001B[0m\u001B[0;34m(\u001B[0m\u001B[0mGROUP_CHALLENGE_VALIDATION\u001B[0m\u001B[0;34m)\u001B[0m\u001B[0;34m,\u001B[0m \u001B[0;34m\"The groups challenge validation set file does not exist\"\u001B[0m\u001B[0;34m\u001B[0m\u001B[0;34m\u001B[0m\u001B[0m\n\u001B[1;32m      7\u001B[0m \u001B[0mRESULTS_FILE\u001B[0m \u001B[0;34m=\u001B[0m \u001B[0;34m\"challenge_results.csv\"\u001B[0m\u001B[0;34m\u001B[0m\u001B[0;34m\u001B[0m\u001B[0m\n\u001B[0;32m----> 8\u001B[0;31m \u001B[0;32massert\u001B[0m \u001B[0mos\u001B[0m\u001B[0;34m.\u001B[0m\u001B[0mpath\u001B[0m\u001B[0;34m.\u001B[0m\u001B[0mexists\u001B[0m\u001B[0;34m(\u001B[0m\u001B[0mRESULTS_FILE\u001B[0m\u001B[0;34m)\u001B[0m\u001B[0;34m,\u001B[0m \u001B[0;34m\"The results file does not exist\"\u001B[0m\u001B[0;34m\u001B[0m\u001B[0;34m\u001B[0m\u001B[0m\n\u001B[0m",
      "\u001B[0;31mAssertionError\u001B[0m: The results file does not exist"
     ]
    }
   ]
  },
  {
   "cell_type": "code",
   "execution_count": 4,
   "id": "b0d29a15-06ad-42f4-8f1b-3d0462dc8ca6",
   "metadata": {
    "id": "b0d29a15-06ad-42f4-8f1b-3d0462dc8ca6",
    "executionInfo": {
     "status": "ok",
     "timestamp": 1710155922676,
     "user_tz": -120,
     "elapsed": 579,
     "user": {
      "displayName": "Shiry Yonash",
      "userId": "13226437010615716886"
     }
    }
   },
   "outputs": [],
   "source": [
    "groups_df = pd.read_csv(GROUP_CHALLENGE_VALIDATION)\n",
    "groups_df.head(5)"
   ]
  },
  {
   "cell_type": "code",
   "execution_count": 12,
   "id": "d328b333-bbf4-4be3-9d62-ac41a688ef54",
   "metadata": {
    "colab": {
     "base_uri": "https://localhost:8080/"
    },
    "id": "d328b333-bbf4-4be3-9d62-ac41a688ef54",
    "executionInfo": {
     "status": "ok",
     "timestamp": 1710157144496,
     "user_tz": -120,
     "elapsed": 426,
     "user": {
      "displayName": "Shiry Yonash",
      "userId": "13226437010615716886"
     }
    },
    "outputId": "a46d6dd7-4685-40b8-f5b5-7d57f11af304"
   },
   "outputs": [
    {
     "output_type": "execute_result",
     "data": {
      "text/plain": [
       "3"
      ]
     },
     "metadata": {},
     "execution_count": 12
    }
   ],
   "source": [
    "NUM_GROUPS = len(groups_df['group_id'].unique())\n",
    "NUM_GROUPS"
   ]
  },
  {
   "cell_type": "markdown",
   "id": "41c6980b-2015-46e2-95c5-27f746453bf1",
   "metadata": {
    "id": "41c6980b-2015-46e2-95c5-27f746453bf1"
   },
   "source": [
    "### How many of the groups got a correct match?"
   ]
  },
  {
   "cell_type": "code",
   "execution_count": null,
   "id": "5d0a0f3f",
   "metadata": {
    "id": "5d0a0f3f"
   },
   "outputs": [],
   "source": [
    "res_df = pd.read_csv(RESULTS_FILE)\n",
    "res_df.head()"
   ]
  },
  {
   "cell_type": "code",
   "execution_count": null,
   "id": "b11c1bd1-e939-448c-af64-015f94d93229",
   "metadata": {
    "id": "b11c1bd1-e939-448c-af64-015f94d93229",
    "outputId": "aa3d85dc-e948-4f00-ef8f-a5107bec2252"
   },
   "outputs": [
    {
     "name": "stdout",
     "output_type": "stream",
     "text": [
      "Challenge Score: 0.0 %\n"
     ]
    }
   ],
   "source": [
    "correct = 0\n",
    "\n",
    "for group_id in range(NUM_GROUPS):\n",
    "    group_df = groups_df[groups_df.group_id == group_id]\n",
    "    true_label = group_df['group_label'].iloc[0]\n",
    "\n",
    "    predicted_label = res_df.iloc[group_id][0]\n",
    "    if true_label == predicted_label:\n",
    "        correct += 1\n",
    "\n",
    "print(\"Challenge Score:\", (correct/NUM_GROUPS)*100, \"%\")"
   ]
  },
  {
   "cell_type": "code",
   "outputs": [],
   "source": [
    "test = 0.678\n"
   ],
   "metadata": {
    "collapsed": false,
    "ExecuteTime": {
     "end_time": "2024-03-16T14:09:21.181763Z",
     "start_time": "2024-03-16T14:09:21.179686Z"
    }
   },
   "id": "29cb9b281de007a5",
   "execution_count": 1
  },
  {
   "cell_type": "code",
   "outputs": [
    {
     "name": "stdout",
     "output_type": "stream",
     "text": [
      "test: 67.80%%\n"
     ]
    }
   ],
   "source": [
    "print(f\"test: {test:.2%}%\")"
   ],
   "metadata": {
    "collapsed": false,
    "ExecuteTime": {
     "end_time": "2024-03-16T14:10:22.066560Z",
     "start_time": "2024-03-16T14:10:22.063232Z"
    }
   },
   "id": "9fef5bfcba549ed9",
   "execution_count": 8
  },
  {
   "cell_type": "code",
   "outputs": [],
   "source": [],
   "metadata": {
    "collapsed": false
   },
   "id": "7470b9c68da5bb8f"
  }
 ],
 "metadata": {
  "kernelspec": {
   "name": "python3",
   "language": "python",
   "display_name": "Python 3 (ipykernel)"
  },
  "language_info": {
   "name": "python"
  },
  "colab": {
   "provenance": []
  }
 },
 "nbformat": 4,
 "nbformat_minor": 5
}
